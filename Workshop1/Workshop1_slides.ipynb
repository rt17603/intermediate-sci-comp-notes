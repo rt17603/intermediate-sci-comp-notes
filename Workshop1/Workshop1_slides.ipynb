{
 "cells": [
  {
   "cell_type": "markdown",
   "metadata": {
    "slideshow": {
     "slide_type": "slide"
    },
    "tags": []
   },
   "source": [
    "# Intermediate Scientific Computing\n",
    "\n",
    "## Workshop 1: Introduction"
   ]
  },
  {
   "cell_type": "markdown",
   "metadata": {
    "slideshow": {
     "slide_type": "slide"
    },
    "tags": []
   },
   "source": [
    "## Welcome back"
   ]
  },
  {
   "cell_type": "markdown",
   "metadata": {
    "slideshow": {
     "slide_type": "slide"
    },
    "tags": []
   },
   "source": [
    "## Summary of intermediate course\n",
    "\n",
    "Term 1:\n",
    "- Software Engineering: Matt Rigby\n",
    "- Object oriented prrogramming: Francesco Turci\n",
    "- Data Science\n",
    "   - Databases and manipulation: Rachel Tunnicliffe\n",
    "   - Techniques: Emma Kuwertz\n",
    "\n",
    "Term 2:\n",
    " - Numerical modelling\n",
    "    - Techniques in Python: Richard Stanford\n",
    "    - Techniques in C++: Stephen Clark\n",
    " - High performance computing - running your code on supercomputers"
   ]
  },
  {
   "cell_type": "markdown",
   "metadata": {
    "slideshow": {
     "slide_type": "slide"
    },
    "tags": []
   },
   "source": [
    "## About us\n",
    "\n",
    "### Lecturers\n",
    "\n",
    "Taught by a team of experts from Schools of Chemistry and Physics as well as the data science insitute at the University (Jean Golding Insitute)."
   ]
  },
  {
   "cell_type": "markdown",
   "metadata": {
    "slideshow": {
     "slide_type": "fragment"
    },
    "tags": []
   },
   "source": [
    "### Demonstrators\n",
    "\n",
    "- Oliver & Alex"
   ]
  },
  {
   "cell_type": "markdown",
   "metadata": {
    "slideshow": {
     "slide_type": "slide"
    },
    "tags": []
   },
   "source": [
    "## Assessment\n",
    "\n",
    "As with last year, this module will be assessed based on projects completed throughout the year with no end of year exam.\n",
    "\n",
    "- Smaller online assessments\n",
    "- Programming projects\n",
    "- Mini project\n",
    "\n",
    "Spread across both terms."
   ]
  },
  {
   "cell_type": "markdown",
   "metadata": {
    "slideshow": {
     "slide_type": "slide"
    },
    "tags": []
   },
   "source": [
    "## Workshops, seminars and lectures\n",
    "\n",
    "In additional to these weekly two hour workshops we will also be running:\n",
    "\n",
    " - *seminars* looking at complementary skills (3 per term)\n",
    " - *lectures* given by guest speakers tying in computing concepts to their own interesting research (3 per term)\n",
    "\n",
    "Keep an eye out for these on your timetable."
   ]
  },
  {
   "cell_type": "markdown",
   "metadata": {
    "slideshow": {
     "slide_type": "slide"
    },
    "tags": []
   },
   "source": [
    "## Today's session\n",
    "\n",
    "**Aim**: Refresh concepts and next steps\n",
    "\n",
    "- Choosing the right tools for the job\n",
    "  - [Mentimeter questions](https://www.mentimeter.com/s/d678b15e214e93728c0d481c22e4186c) around approach we would take for different program ideas\n",
    "- How we will be writing code this year\n",
    "- Refresher exercises\n",
    "   - [Workshop1_01_Refresher](Workshop1_01_Refresher.ipynb)"
   ]
  },
  {
   "cell_type": "markdown",
   "metadata": {
    "slideshow": {
     "slide_type": "skip"
    },
    "tags": []
   },
   "source": [
    "## Choosing the right tools for the job ([slides](https://www.mentimeter.com/s/d678b15e214e93728c0d481c22e4186c))\n",
    "\n",
    "For the examples presented, which tools would you use to complete each task?\n",
    "\n",
    "Voting link: https://www.menti.com/8v4re9tik4"
   ]
  },
  {
   "cell_type": "markdown",
   "metadata": {
    "slideshow": {
     "slide_type": "slide"
    },
    "tags": []
   },
   "source": [
    "## Writing your Python code\n",
    "\n",
    "Although **Noteable is available** to use through [Blackboard](https://www.ole.bris.ac.uk) ([Intermediate Scientific Computing](https://www.ole.bris.ac.uk//webapps/login/?action=default_login&new_loc=%2Fwebapps%2Fblackboard%2Fcontent%2FlistContentEditable.jsp%3Fcontent_id%3D_5670852_1%26course_id%3D_246027_1) course page), we will be encouraging you to try installing and running Python on your own laptop and to start making your own decisions about how want to run Python.\n",
    "\n",
    "This week we will continue to use Noteable where needed but for your asynchronous activity, we will be asking you to download a Python \"distribution\" called Anaconda.\n",
    "\n",
    "<img src=\"images/anaconda-logo.png\" alt=\"Anaconda logo\" style=\"display:block;margin-left:auto;margin-right:auto;width:25%\"/>"
   ]
  },
  {
   "cell_type": "markdown",
   "metadata": {
    "slideshow": {
     "slide_type": "slide"
    },
    "tags": []
   },
   "source": [
    "## Why Anaconda?\n",
    "\n",
    "Anaconda is by no means the only way to install Python on your own laptop. So what is the benefit?"
   ]
  },
  {
   "cell_type": "markdown",
   "metadata": {
    "slideshow": {
     "slide_type": "fragment"
    },
    "tags": []
   },
   "source": [
    "When you download Anaconda this includes:\n",
    " - Python (the language)\n",
    " - Additional packages (like numpy, pandas, matplotlib etc.)\n",
    " - Additional software (like Jupyter notebooks and JupyterLab, as well as Integrated Development Environments)\n",
    "\n",
    "Because Anaconda gathers together these different components for coding in Python, this makes it easier to get up and running quickly. This type of bundle is often called a *distribution*."
   ]
  },
  {
   "cell_type": "markdown",
   "metadata": {
    "slideshow": {
     "slide_type": "slide"
    },
    "tags": []
   },
   "source": [
    "### Environments\n",
    "\n",
    "Last year, we made use of **external libraries**, such as `numpy` and `pandas`, which we accessed using import statements. But how do we know which libraries are available to us (and which versions)? And how would we access more libraries if we wanted to? "
   ]
  },
  {
   "cell_type": "markdown",
   "metadata": {
    "slideshow": {
     "slide_type": "fragment"
    },
    "tags": []
   },
   "source": [
    "In Python, whenever we import a module, such as numpy or pandas, we are accessing additional code stored in external files. Creating a Python *environment* is how we bundle up all these external files (python libraries and sometimes other dependencies) we want to use in one place.\n",
    "\n",
    "Anaconda provides us with most of the libraries we want and a package manager (called conda) which allows you to manage this."
   ]
  },
  {
   "cell_type": "markdown",
   "metadata": {
    "slideshow": {
     "slide_type": "slide"
    },
    "tags": []
   },
   "source": [
    "#### Aside: how does this work on Noteable?\n",
    "\n",
    "On Noteable, we used lots of import statements and we had all these modules readily available because they had been pre-bundled up for us in something they called the [Standard Notebook](https://noteable.edina.ac.uk/notebook-descriptions/). This was something we selected when we log onto Noteable through Blackboard (you may notice other 'Notebooks' available in the dropdown - in this case 'Notebook' is just their term for environments).\n",
    "\n",
    "<img src=\"images/noteable-standard-notebook.png\" alt=\"Noteable Standard Notebook\" style=\"display:block;margin-left:auto;margin-right:auto;width:75%\"/>"
   ]
  },
  {
   "cell_type": "markdown",
   "metadata": {
    "slideshow": {
     "slide_type": "skip"
    },
    "tags": []
   },
   "source": [
    "*Demonstration of Anaconda and a few features*"
   ]
  },
  {
   "cell_type": "markdown",
   "metadata": {
    "slideshow": {
     "slide_type": "slide"
    },
    "tags": []
   },
   "source": [
    "## Running your Python code\n",
    "\n",
    "So far, we have been mainly using the Jupyter notebook interface to write our code in Jupyter notebooks. In this way, we have been running Python *interactively* using Jupyter notebooks where the code is executed immediately and provides a result.\n",
    "\n",
    "<img src=\"images/interactive-code-cell.png\" alt=\"Interactive code cell\" style=\"display:block;margin-left:auto;margin-right:auto;width:100%\"/>"
   ]
  },
  {
   "cell_type": "markdown",
   "metadata": {
    "slideshow": {
     "slide_type": "fragment"
    },
    "tags": []
   },
   "source": [
    "This year, we will also be exploring writing code in *scripts* and *modules*, where we write the same Python code but within a simple text file (\".py\" extension) to be run separately.\n",
    "\n",
    "<img src=\"images/script-code.png\" alt=\"Code within a script\" style=\"display:block;margin-left:auto;margin-right:auto;width:90%\"/>"
   ]
  },
  {
   "cell_type": "markdown",
   "metadata": {
    "slideshow": {
     "slide_type": "slide"
    },
    "tags": []
   },
   "source": [
    "#### Modules and scripts\n",
    "\n",
    "We have already encountered modules - this was a collection of functions (and other constructs) which can be imported and used elsewhere. You will be getting a refresher of that concept next week."
   ]
  },
  {
   "cell_type": "markdown",
   "metadata": {
    "slideshow": {
     "slide_type": "fragment"
    },
    "tags": []
   },
   "source": [
    "*Scripts* are simply text files (saved with a \".py\" extension) that contain Python code which we can run through a *terminal* window (more on that in the asynchronous activity)."
   ]
  },
  {
   "cell_type": "markdown",
   "metadata": {
    "slideshow": {
     "slide_type": "slide"
    },
    "tags": []
   },
   "source": [
    "## Why write scripts?\n",
    "\n",
    "As demonstrated with modules, writing Python within text files provides us with more flexibility in their use. This will become more important when starting to build more complex operations and using high performance computing (HPC) systems."
   ]
  },
  {
   "cell_type": "markdown",
   "metadata": {
    "slideshow": {
     "slide_type": "fragment"
    },
    "tags": []
   },
   "source": [
    "Because we want to be able to easily write these text files and run them, we will be recommending the use of tools such as JupyterLab for writing your own code which starts to provide more flexibilty and functionality than the Jupyter notebook interface.\n",
    "\n",
    "*As before, it is also possible to access the JupyterLab tool through Noteable following the instructions from Week 20 of the Introductory Scientific Computing unit*"
   ]
  },
  {
   "cell_type": "markdown",
   "metadata": {
    "slideshow": {
     "slide_type": "slide"
    },
    "tags": []
   },
   "source": [
    "## What do ***you*** need to do?\n",
    "\n",
    "When you download Anaconda this pre-populates a 'base' environment which contains all of the modules you are already familiar with and more. It also provides you with tools such as JupyterLab (and Jupyter notebooks) which you can launch and start using to write and run Python code in different forms."
   ]
  },
  {
   "cell_type": "markdown",
   "metadata": {
    "slideshow": {
     "slide_type": "fragment"
    },
    "tags": []
   },
   "source": [
    "**So once you download Anaconda, you can just launch JupyterLab (or an IDE of your choice) and you're ready to start coding!**"
   ]
  },
  {
   "cell_type": "markdown",
   "metadata": {
    "slideshow": {
     "slide_type": "fragment"
    },
    "tags": []
   },
   "source": [
    "For your asynchronous activity this week, you will be directed to download and start investigating how to use Anaconda and the tools provided before the next session."
   ]
  },
  {
   "cell_type": "markdown",
   "metadata": {},
   "source": [
    "## Accessing your Week 1 course notes\n",
    "\n",
    "Access the course notes for Week 1 on the [DLM](https://dlm.chm.bris.ac.uk/dlm2021-22/course/view.php?id=846). Upload to Noteable and unzip, if you haven't already.\n",
    "\n",
    "**[Refresher video avaliable on Blackboard](https://www.ole.bris.ac.uk//webapps/login/?action=default_login&new_loc=%2Fwebapps%2Fblackboard%2Fcontent%2FlistContentEditable.jsp%3Fcontent_id%3D_5670852_1%26course_id%3D_246027_1)** (make sure to log onto [Blackboard](https://www.ole.bris.ac.uk) first to access this link)."
   ]
  },
  {
   "cell_type": "markdown",
   "metadata": {
    "slideshow": {
     "slide_type": "slide"
    },
    "tags": []
   },
   "source": [
    "## Refresher exercises\n",
    "\n",
    "Work through these refresher exercises, focussing around how to use your Python knowledge to solve problems and write functions. For a reminder, take a look at the recap notebooks included in your course notes for this week ([Python essentials](Workshop1_Recap_PythonEssentials.ipynb), [numpy arrays and functions](Workshop1_Recap_Numpy.ipynb), [writing functions](Workshop1_Recap_Functions.ipynb)).\n",
    "\n",
    "[*Workshop1_01_Refresher.ipynb*](Workshop1_01_Refresher.ipynb)"
   ]
  },
  {
   "cell_type": "markdown",
   "metadata": {
    "slideshow": {
     "slide_type": "slide"
    },
    "tags": []
   },
   "source": [
    "# Before the next workshop (Workshop 2)\n",
    "## Asynchronous activity to be completed before Thursday, 7th October\n",
    "\n",
    "Go to: [Intermediate Scientific Computing course page (DLM)](https://dlm.chm.bris.ac.uk/dlm2021-22/course/view.php?id=846)\n",
    "\n",
    "### Installing Anaconda ([notebook](Workshop1-2_asynchronous.ipynb), [html](https://uob.sharepoint.com/:u:/t/grp-chem-curriculum/EVrRe9RTbcZNrDoJGprnJhEBH-4AeIj_p26Z0nxcI-JveA))\n",
    "\n",
    "Following the instructions provided, download and install Anaconda on your personal device. Complete the exercises included to investigate your installed packaged and see how you can launch your own version of JupyterLab."
   ]
  }
 ],
 "metadata": {
  "kernelspec": {
   "display_name": "Python 3",
   "language": "python",
   "name": "python3"
  },
  "language_info": {
   "codemirror_mode": {
    "name": "ipython",
    "version": 3
   },
   "file_extension": ".py",
   "mimetype": "text/x-python",
   "name": "python",
   "nbconvert_exporter": "python",
   "pygments_lexer": "ipython3",
   "version": "3.8.5"
  },
  "toc-showcode": true,
  "toc-showtags": true
 },
 "nbformat": 4,
 "nbformat_minor": 4
}
