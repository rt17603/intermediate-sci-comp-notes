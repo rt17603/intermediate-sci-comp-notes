{
 "cells": [
  {
   "cell_type": "markdown",
   "metadata": {},
   "source": [
    "# Summary - Python essentials"
   ]
  },
  {
   "cell_type": "markdown",
   "metadata": {},
   "source": [
    "Summary of topics covered in Introductory Scientific Computing, Weeks 1-5"
   ]
  },
  {
   "cell_type": "code",
   "execution_count": 1,
   "metadata": {},
   "outputs": [],
   "source": [
    "# If you include a # symbol in Python code, this creates a comment where everything after the # will be ignored"
   ]
  },
  {
   "cell_type": "code",
   "execution_count": 2,
   "metadata": {},
   "outputs": [
    {
     "name": "stdout",
     "output_type": "stream",
     "text": [
      "Python\n"
     ]
    }
   ],
   "source": [
    "print(\"Python\") # The print() function can be used to print anything to the screen"
   ]
  },
  {
   "cell_type": "markdown",
   "metadata": {},
   "source": [
    "### Strings (`str`)\n",
    "\n",
    "Week 2: Python Variables; Week 3: Python Methods"
   ]
  },
  {
   "cell_type": "code",
   "execution_count": 3,
   "metadata": {},
   "outputs": [],
   "source": [
    "# Both single (' ') and double (\" \") quotes can be used to create strings\n",
    "string1 = \"Hello Python\"\n",
    "string2 = 'The number 100'"
   ]
  },
  {
   "cell_type": "code",
   "execution_count": 4,
   "metadata": {},
   "outputs": [
    {
     "name": "stdout",
     "output_type": "stream",
     "text": [
      "string1 contains: 'Hello Python'\n"
     ]
    }
   ],
   "source": [
    "# f-strings can be create strings which include the values of other variables\n",
    "# f'Other words {varname}'\n",
    "fstring = f\"string1 contains: '{string1}'\"\n",
    "print(fstring)"
   ]
  },
  {
   "cell_type": "code",
   "execution_count": 5,
   "metadata": {},
   "outputs": [
    {
     "name": "stdout",
     "output_type": "stream",
     "text": [
      "The number 500\n"
     ]
    }
   ],
   "source": [
    "# Strings can be manipulated using functions\n",
    "string_replace = string2.replace(\"100\",\"500\")\n",
    "print(string_replace)"
   ]
  },
  {
   "cell_type": "code",
   "execution_count": 6,
   "metadata": {
    "tags": [
     "raises-exception"
    ]
   },
   "outputs": [
    {
     "ename": "TypeError",
     "evalue": "'str' object does not support item assignment",
     "output_type": "error",
     "traceback": [
      "\u001b[1;31m---------------------------------------------------------------------------\u001b[0m",
      "\u001b[1;31mTypeError\u001b[0m                                 Traceback (most recent call last)",
      "\u001b[1;32m<ipython-input-6-61894d32537f>\u001b[0m in \u001b[0;36m<module>\u001b[1;34m\u001b[0m\n\u001b[0;32m      1\u001b[0m \u001b[1;31m# But strings cannot be updated directly (indexing and slicing - see lists)\u001b[0m\u001b[1;33m\u001b[0m\u001b[1;33m\u001b[0m\u001b[1;33m\u001b[0m\u001b[0m\n\u001b[1;32m----> 2\u001b[1;33m \u001b[0mstring2\u001b[0m\u001b[1;33m[\u001b[0m\u001b[1;33m-\u001b[0m\u001b[1;36m3\u001b[0m\u001b[1;33m:\u001b[0m\u001b[1;33m]\u001b[0m \u001b[1;33m=\u001b[0m \u001b[1;34m\"500\"\u001b[0m\u001b[1;33m\u001b[0m\u001b[1;33m\u001b[0m\u001b[0m\n\u001b[0m",
      "\u001b[1;31mTypeError\u001b[0m: 'str' object does not support item assignment"
     ]
    }
   ],
   "source": [
    "# But strings cannot be updated directly (indexing and slicing - see lists)\n",
    "string2[-3:] = \"500\""
   ]
  },
  {
   "cell_type": "markdown",
   "metadata": {},
   "source": [
    "*Extended Learning*:\n",
    "\n",
    "- *[How strings are represented (unicode)](https://medium.com/better-programming/strings-unicode-and-bytes-in-python-3-everything-you-always-wanted-to-know-27dc02ff2686) (Section - \"A little bit of history\")*\n",
    "- *[Unicode HOWTO (technical)](https://docs.python.org/3/howto/unicode.html)*"
   ]
  },
  {
   "cell_type": "markdown",
   "metadata": {},
   "source": [
    "### Numbers (integers `int` and floats `float`)\n",
    "\n",
    "Week 2: Python Variables"
   ]
  },
  {
   "cell_type": "code",
   "execution_count": 7,
   "metadata": {},
   "outputs": [],
   "source": [
    "integer1 = 42   # Whole numbers are integers\n",
    "float1 = 1.5    # Decimals are floats\n",
    "float2 = 3e8    # Numbers with exponents are also floats"
   ]
  },
  {
   "cell_type": "code",
   "execution_count": 8,
   "metadata": {},
   "outputs": [
    {
     "name": "stdout",
     "output_type": "stream",
     "text": [
      "8400000000.0\n"
     ]
    }
   ],
   "source": [
    "# Integers and floats can be used with operators (+ - * / ** %) to perform calculations\n",
    "new_number = (integer1*float2)/float1\n",
    "print(new_number)"
   ]
  },
  {
   "cell_type": "markdown",
   "metadata": {},
   "source": [
    "*Extended learning:*\n",
    "\n",
    " - *[Float format specifiers for f-strings](https://www.python.org/dev/peps/pep-0498/#format-specifiers)*\n",
    " - *[Options for formatting f-strings (technical)](https://docs.python.org/3/library/string.html#formatspec)*"
   ]
  },
  {
   "cell_type": "markdown",
   "metadata": {},
   "source": [
    "### Lists (`list`)\n",
    "\n",
    "Week 2: Lists; Week 3: Data Structures; Week 3: Python Methods; Week 3: Questions"
   ]
  },
  {
   "cell_type": "code",
   "execution_count": 9,
   "metadata": {},
   "outputs": [
    {
     "name": "stdout",
     "output_type": "stream",
     "text": [
      "[1, 3, 5, 7]\n"
     ]
    }
   ],
   "source": [
    "# Lists are created using square brackets [ ]\n",
    "list1 = [1,3,5,7]\n",
    "print(list1)"
   ]
  },
  {
   "cell_type": "code",
   "execution_count": 10,
   "metadata": {},
   "outputs": [
    {
     "name": "stdout",
     "output_type": "stream",
     "text": [
      "2\n",
      "[2, 3, 5, 7]\n"
     ]
    }
   ],
   "source": [
    "# Lists can be updated using indexing and slicing (also using square brackets [ ])\n",
    "list1[0] = 2\n",
    "\n",
    "print(list1[0])\n",
    "print(list1)"
   ]
  },
  {
   "cell_type": "code",
   "execution_count": 11,
   "metadata": {},
   "outputs": [
    {
     "name": "stdout",
     "output_type": "stream",
     "text": [
      "14\n",
      "[2, 3, 5, 14]\n"
     ]
    }
   ],
   "source": [
    "list1[-1] = list1[-1]*2\n",
    "\n",
    "print(list1[-1])\n",
    "print(list1)"
   ]
  },
  {
   "cell_type": "code",
   "execution_count": 12,
   "metadata": {},
   "outputs": [
    {
     "name": "stdout",
     "output_type": "stream",
     "text": [
      "[6, 10]\n",
      "[2, 6, 10, 14]\n"
     ]
    }
   ],
   "source": [
    "# list slices go from start up to, but not including, stop\n",
    "list1[1:3] = [6,10]\n",
    "\n",
    "print(list1[1:3])\n",
    "print(list1)"
   ]
  },
  {
   "cell_type": "markdown",
   "metadata": {},
   "source": [
    "### Dictionaries (`dict`)\n",
    "\n",
    "Week 3: Data Structures; Week 3: Questions"
   ]
  },
  {
   "cell_type": "code",
   "execution_count": 13,
   "metadata": {},
   "outputs": [],
   "source": [
    "# Dictionaries are created using curly brackets { }\n",
    "dict1 = {\"cat\":\"meow\",\"dog\":\"bark\"}"
   ]
  },
  {
   "cell_type": "code",
   "execution_count": 14,
   "metadata": {},
   "outputs": [
    {
     "name": "stdout",
     "output_type": "stream",
     "text": [
      "cat meow\n"
     ]
    }
   ],
   "source": [
    "# Items of a dictionary are accessed using the key and square brackets [ ]\n",
    "key = \"cat\"\n",
    "print(key,dict1[key])"
   ]
  },
  {
   "cell_type": "code",
   "execution_count": 15,
   "metadata": {},
   "outputs": [
    {
     "name": "stdout",
     "output_type": "stream",
     "text": [
      "{'cat': 'meow', 'dog': 'bark', 'sheep': 'baa'}\n"
     ]
    }
   ],
   "source": [
    "# Values can be updated or new values added using square brackets with a an existing or new key [ ]\n",
    "dict1[\"sheep\"] = \"baa\"\n",
    "print(dict1)"
   ]
  },
  {
   "cell_type": "markdown",
   "metadata": {},
   "source": [
    "### For loops (`for`)\n",
    "\n",
    "Week 4: Looping"
   ]
  },
  {
   "cell_type": "code",
   "execution_count": 16,
   "metadata": {},
   "outputs": [
    {
     "name": "stdout",
     "output_type": "stream",
     "text": [
      "2\n",
      "6\n",
      "10\n",
      "14\n"
     ]
    }
   ],
   "source": [
    "# For loops can list over existing objects\n",
    "for item in list1:\n",
    "    print(item)"
   ]
  },
  {
   "cell_type": "code",
   "execution_count": 17,
   "metadata": {},
   "outputs": [
    {
     "name": "stdout",
     "output_type": "stream",
     "text": [
      "1\n",
      "2\n",
      "4\n",
      "8\n",
      "16\n",
      "32\n",
      "64\n",
      "128\n",
      "256\n",
      "512\n"
     ]
    }
   ],
   "source": [
    "# Or new values can be created e.g. by using the range() function\n",
    "for i in range(10):\n",
    "    print(2**i)"
   ]
  },
  {
   "cell_type": "code",
   "execution_count": 18,
   "metadata": {},
   "outputs": [
    {
     "name": "stdout",
     "output_type": "stream",
     "text": [
      "[0, 1, 8, 27, 64, 125, 216, 343, 512, 729]\n"
     ]
    }
   ],
   "source": [
    "# Can use loops to append or extend lists\n",
    "list2 = []\n",
    "for i in range(10):\n",
    "    list2.append(i**3)\n",
    "print(list2)"
   ]
  },
  {
   "cell_type": "markdown",
   "metadata": {},
   "source": [
    "### If statements (`if` `elif` `else`)\n",
    "\n",
    "Week 4: Branching"
   ]
  },
  {
   "cell_type": "code",
   "execution_count": 19,
   "metadata": {},
   "outputs": [
    {
     "name": "stdout",
     "output_type": "stream",
     "text": [
      "42 is less than 50\n"
     ]
    }
   ],
   "source": [
    "if integer1 < 50:\n",
    "    print(f\"{integer1} is less than 50\")"
   ]
  },
  {
   "cell_type": "code",
   "execution_count": 20,
   "metadata": {},
   "outputs": [
    {
     "name": "stdout",
     "output_type": "stream",
     "text": [
      "42 is less than 50 OR 1.5 is equal to 2.0\n"
     ]
    }
   ],
   "source": [
    "if integer1 < 50 and float1 == 2.0:\n",
    "    print(f\"{integer1} is less than 50 AND {float1} is equal to 2.0\")\n",
    "elif integer1 < 50 or float1 == 2.0:\n",
    "    print(f\"{integer1} is less than 50 OR {float1} is equal to 2.0\")\n",
    "else:\n",
    "    print(\"Number do not match\")"
   ]
  },
  {
   "cell_type": "markdown",
   "metadata": {},
   "source": [
    "### While loops (`while`)\n",
    "\n",
    "Week 5: While loops"
   ]
  },
  {
   "cell_type": "code",
   "execution_count": 21,
   "metadata": {},
   "outputs": [
    {
     "name": "stdout",
     "output_type": "stream",
     "text": [
      "Remainder of 0 divided by 2: 0\n",
      "Remainder of 1 divided by 2: 1\n",
      "Remainder of 2 divided by 2: 0\n",
      "Remainder of 3 divided by 2: 1\n",
      "Remainder of 4 divided by 2: 0\n",
      "Remainder of 5 divided by 2: 1\n",
      "Remainder of 6 divided by 2: 0\n",
      "Remainder of 7 divided by 2: 1\n",
      "Remainder of 8 divided by 2: 0\n",
      "Remainder of 9 divided by 2: 1\n"
     ]
    }
   ],
   "source": [
    "# While loops can be used to keep running the same lines of code while a condition is met\n",
    "i=0\n",
    "while i < 10:\n",
    "    print(f\"Remainder of {i} divided by 2: {i%2}\")\n",
    "    i += 1"
   ]
  },
  {
   "cell_type": "code",
   "execution_count": 22,
   "metadata": {},
   "outputs": [
    {
     "name": "stdout",
     "output_type": "stream",
     "text": [
      "0 is divisible by 2\n",
      "1 is not divisible by 2\n",
      "2 is divisible by 2\n",
      "3 is not divisible by 2\n",
      "4 is divisible by 2\n",
      "5 is not divisible by 2\n",
      "6 is divisible by 2\n",
      "7 is not divisible by 2\n",
      "8 is divisible by 2\n",
      "9 is not divisible by 2\n"
     ]
    }
   ],
   "source": [
    "# while, if and for loops can be nested within each other (keep an eye on the indentation)\n",
    "i=0\n",
    "while i < 10:\n",
    "    if i%2 == 0:\n",
    "        print(f\"{i} is divisible by 2\")\n",
    "    else:\n",
    "        print(f\"{i} is not divisible by 2\")\n",
    "    i += 1"
   ]
  }
 ],
 "metadata": {
  "kernelspec": {
   "display_name": "Python 3",
   "language": "python",
   "name": "python3"
  },
  "language_info": {
   "codemirror_mode": {
    "name": "ipython",
    "version": 3
   },
   "file_extension": ".py",
   "mimetype": "text/x-python",
   "name": "python",
   "nbconvert_exporter": "python",
   "pygments_lexer": "ipython3",
   "version": "3.8.5"
  }
 },
 "nbformat": 4,
 "nbformat_minor": 4
}
