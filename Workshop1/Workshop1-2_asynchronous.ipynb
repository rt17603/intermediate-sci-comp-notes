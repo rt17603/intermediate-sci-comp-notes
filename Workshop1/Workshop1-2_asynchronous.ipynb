{
 "cells": [
  {
   "cell_type": "markdown",
   "id": "ed53790f-54f2-4cd4-95d7-a3f76cc7c4fe",
   "metadata": {},
   "source": [
    "# Asynchronous activity\n",
    "\n",
    "## Install Anaconda\n",
    "\n",
    "For executing and testing Python code, Noteable will still be available to use throughout the Intermediate Scientific Computing through the relevant Blackboard course page.\n",
    "\n",
    "However, as part of your learning, it is important that you start to set yourselves up with your own version of the Python ecosystem and start to make your own choices about how you want to write your Python code. Up until now, we have encouraged you to use the Jupyter notebooks interface (and introduced JupyterLab) but, as we discussed in your Integrated Development Environments (IDEs) seminar last year, this is not the only way to write and interact with the Python language.\n",
    "\n",
    "Much of this is personal preference, so we'll leave it up to you to choose but can advise. In this activity, we'll give you some pointers, and explain some of the key concepts. Some things to note:\n",
    "\n",
    "***You should install Anaconda but don't have to figure out all the details below before the next session. It'll take time to get set up and figure out the various details of the workflow you decide works for you.***\n",
    "\n",
    "*Use the demonstrators, office hours and consolidation sessions to get any additional help you need over the next few weeks.*"
   ]
  },
  {
   "cell_type": "markdown",
   "id": "a9837a3d-cad8-4722-8e0f-abf7fb13fe9e",
   "metadata": {},
   "source": [
    "### The Anaconda Python distribution and Conda package manager\n",
    "\n",
    "Python is so powerful, because there is an ecosystem of packages that extend the basic functionality (e.g., `numpy`, `pandas`, etc.). However, these libraries often build on each other, for example code and features within the `pandas` package uses functionality within the `numpy` package. this makes numpy is a *dependency* of pandas and both packages would need to be installed to be able to import and use pandas. In addition, these packages are constantly being updated (creating different *versions*), and each package needs to be compatabile with other versions of other packages meaning it's almost impossible to manage them manually.\n",
    "\n",
    "Within the seminar, we discussed how these packages can be stored together within an *environment*, which can be used by Python to access the right packages and versions we want to use. \n",
    "\n",
    "Anaconda (Anaconda Individual Edition) is one example of a *distribution* that has been developed, in part, to bundle together the most popular Python packages into an environment, and test them to ensure that the package versions work together (e.g., the version of numpy will depend on an appropriate version of Python, etc.). These distributions typically include a *package manager*, which is a piece of software that keeps track of all the dependencies for each package. For Anaconda, this package manager is called *conda* and, as well as including the most popular packages initially, allows us add more packages to our environment and tries to keep everything working together nicely."
   ]
  },
  {
   "cell_type": "markdown",
   "id": "cf791a89-ca20-4d0e-a10a-99d1db31b9b9",
   "metadata": {},
   "source": [
    "---"
   ]
  },
  {
   "cell_type": "markdown",
   "id": "efc69495-326f-4059-b249-c358727790ba",
   "metadata": {},
   "source": [
    "#### Exercise A"
   ]
  },
  {
   "cell_type": "markdown",
   "id": "4c04756a-23d8-46b9-82ba-e96d6a3df512",
   "metadata": {},
   "source": [
    "1) **Download and install Anaconda Individual Edition** from https://www.anaconda.com/products/individual:\n",
    "- Click the \"Download\" button\n",
    "    - This may automatically detect the appropriate installer for your computer but if not make sure to select the correct one (e.g. 64-Bit Graphical Installer for Windows or MacOS)\n",
    " - If this doesn't launch the Setup automatically, open the file when downloaded.\n",
    " - Run through the setup instructions."
   ]
  },
  {
   "cell_type": "markdown",
   "id": "ac0e876b-d473-483d-8c21-5517a2ab86aa",
   "metadata": {},
   "source": [
    "2) Launch \"Anaconda Navigator\" and **identify which versions of numpy and pandas you have installed.** Are they more or less recent than v1.19.4 ([numpy](https://pypi.org/project/numpy/#history)) and 1.1.4 ([pandas](https://pypi.org/project/pandas/#history))?\n",
    "\n",
    " - Click on the \"Environments\" option in the left hand panel to navigate to the environments page.\n",
    " - You should see a 'base' environment listed which already shows the list of packages installed.\n",
    " - Looking at the list of \"Installed\" packages (or change the drop down to include \"All\" to show all possible packages) find `numpy` and `pandas` and check which versions are installed."
   ]
  },
  {
   "cell_type": "markdown",
   "id": "d3cdc4de-469a-4c5f-bdcf-dfefa59d8942",
   "metadata": {},
   "source": [
    "---"
   ]
  },
  {
   "cell_type": "markdown",
   "id": "8bb4db03-b956-4043-8c19-cec4625dbacc",
   "metadata": {},
   "source": [
    "### Running and writing code\n",
    "\n",
    "For Python there are multiple ways to both **run** and **write** code. \n",
    "\n",
    "During your first year, you have been running code *interactively* using Jupyter notebooks where the code is executed immediately and provides a result.\n",
    "\n",
    "Being able to run code like this is very useful but as we move forward, we will also want to start writing our Python code in *scripts* (text files with a \".py\" extension) which can be run separately on the *terminal* (command-line). This will become more important when starting to build more complex operations and using high performance computing (HPC) systems."
   ]
  },
  {
   "cell_type": "markdown",
   "id": "6a6cf0a3-8dc9-485c-9823-8b7bfbbaa932",
   "metadata": {},
   "source": [
    "---"
   ]
  },
  {
   "cell_type": "markdown",
   "id": "f6e62308-80c9-4339-ba66-00cfff01b717",
   "metadata": {},
   "source": [
    "#### Exercise B\n",
    "\n",
    "Watch these two short videos by Dr. Matt Williams about how to launch JupyterLab from Anaconda and how you can use this to write and run a simple Python script:\n",
    "\n",
    "- Launching JupyterLab (~3 mins) - https://www.youtube.com/watch?v=ak4cJG_6ENM\n",
    "- Running a simple script (~5 mins) - https://www.youtube.com/watch?v=Fw6VYgsbJ4o"
   ]
  },
  {
   "cell_type": "markdown",
   "id": "be00e59f-7d7e-43ea-aadb-f80149fbcdd6",
   "metadata": {},
   "source": [
    "1. Follow along and **use the details of these videos to write your own short script** and execute this using the terminal (command line) in JupyterLab"
   ]
  },
  {
   "cell_type": "markdown",
   "id": "b44c9865-3971-480c-ba05-7122cb893802",
   "metadata": {},
   "source": [
    "---"
   ]
  },
  {
   "cell_type": "markdown",
   "id": "670af65e-4444-42be-8dca-7d310be41abe",
   "metadata": {},
   "source": [
    "### Choosing your Python tool\n",
    "\n",
    "If you like to, it's absolutely fine for you to continue to use Jupyter notebooks to write your own code, when appropriate. Jupyter notebooks are especially good for data exploration and plotting but scripts (and modules) are often better when constructing more complex code and models.\n",
    "\n",
    "We would strongly recommend using the [JupyterLab tool](https://jupyterlab.readthedocs.io/en/stable/getting_started/overview.html) over the Jupyter Notebook interface, as it provides the same functionality, but allows easy development and running of Python for  Notebooks, scripts and modules. JupyterLab comes bundled with the Anaconda distribution, and you can launch it using these instructions: https://milliams.com/courses/beginning_python/index.html"
   ]
  },
  {
   "cell_type": "markdown",
   "id": "2e161109-aefb-41a8-a187-6436c16cc617",
   "metadata": {},
   "source": [
    "If you'd like to try using an Integrated Development Environment (IDE) that is more full featured than JupyterLab, including features like code completion, debugging, etc., here are a few options that you could investigate:\n",
    "- [Spyder](https://www.spyder-ide.org/)\n",
    "- [VS Code](https://code.visualstudio.com/)\n",
    "- [Pycharm](https://www.jetbrains.com/pycharm/)\n",
    "\n",
    "Spyder is also included with the Anaconda distribution and can be launched from the Anaconda Navigator in a similiar way to JupyterLab.\n",
    "\n",
    "To use [VS Code](https://code.visualstudio.com/) or [Pycharm](https://www.jetbrains.com/pycharm/) they should be downloaded and installed in addition to Anaconda. Follow through the install and set up instructions available here if you want to use either of these tools:\n",
    "- https://milliams.com/courses/ides_debugging/\n",
    "\n",
    "The full course linked above also provides more details of how to get the most out of these two IDEs."
   ]
  },
  {
   "cell_type": "markdown",
   "id": "f0959709-eb3e-42d5-b1a2-254980037211",
   "metadata": {},
   "source": [
    "---"
   ]
  }
 ],
 "metadata": {
  "kernelspec": {
   "display_name": "Python 3",
   "language": "python",
   "name": "python3"
  },
  "language_info": {
   "codemirror_mode": {
    "name": "ipython",
    "version": 3
   },
   "file_extension": ".py",
   "mimetype": "text/x-python",
   "name": "python",
   "nbconvert_exporter": "python",
   "pygments_lexer": "ipython3",
   "version": "3.8.5"
  }
 },
 "nbformat": 4,
 "nbformat_minor": 5
}
