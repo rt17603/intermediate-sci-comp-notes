{
 "cells": [
  {
   "cell_type": "markdown",
   "metadata": {},
   "source": [
    "# How to create your own function"
   ]
  },
  {
   "cell_type": "markdown",
   "metadata": {},
   "source": [
    "Functions provide a way of packaging code into reusable and easy-to-use components and are a key part of many programming languages including Python."
   ]
  },
  {
   "cell_type": "markdown",
   "metadata": {},
   "source": [
    "In a similar fashion to other constructs in Python (like `for` loops and `if` statements), functions have a rigid structure. They are composed of some necessary scaffolding and some user defined input.\n",
    "\n",
    "Let us consider the following function called `add_lists`, which would allow us to add the elements of two lists together:"
   ]
  },
  {
   "cell_type": "code",
   "execution_count": 1,
   "metadata": {},
   "outputs": [],
   "source": [
    "def add_lists(x, y):\n",
    "    z = []\n",
    "    length_x = len(x)\n",
    "    for i in range(length_x):\n",
    "        z.append(x[i] + y[i])\n",
    "    return z"
   ]
  },
  {
   "cell_type": "markdown",
   "metadata": {},
   "source": [
    "### Defining a function\n",
    "\n",
    "To create this function, first we must use the `def` keyword to start a function definition:\n",
    "\n",
    "<pre>\n",
    " ↓\n",
    "<b style=\"color:darkred\">def</b> add_lists(x, y):\n",
    "    z = []\n",
    "    length_x = len(x)\n",
    "    for i in range(length_x):\n",
    "        z.append(x[i] + y[i])\n",
    "    return z\n",
    "</pre>\n",
    "\n",
    "Then we specify the name that we want to give the function. Like anything in Python, choose a descriptive name that describes what it does. This is the name which we will use when *calling* the function:\n",
    "\n",
    "<pre>\n",
    "        ↓\n",
    "def <b style=\"color:darkred\">add_lists</b>(x, y):\n",
    "    z = []\n",
    "    length_x = len(x)\n",
    "    for i in range(length_x):\n",
    "        z.append(x[i] + y[i])\n",
    "    return z\n",
    "</pre>\n",
    "\n",
    "Function definitions must then be followed by a pair of round brackets. This is a similar syntax to that used when *calling* a function and giving it arguments but here we're just defining it:\n",
    "\n",
    "<pre>\n",
    "             ↓    ↓\n",
    "def add_lists<b style=\"color:darkred\">(</b>x, y<b style=\"color:darkred\">)</b>:\n",
    "    z = []\n",
    "    length_x = len(x)\n",
    "    for i in range(length_x):\n",
    "        z.append(x[i] + y[i])\n",
    "    return z\n",
    "</pre>\n",
    "\n",
    "Between those brackets go the names of the parameters we want the function to accept. We can define zero or more parameters. Here we are defining two:\n",
    "\n",
    "<pre>\n",
    "              ↓  ↓\n",
    "def add_lists(<b style=\"color:darkred\">x, y</b>):\n",
    "    z = []\n",
    "    length_x = len(x)\n",
    "    for i in range(length_x):\n",
    "        z.append(x[i] + y[i])\n",
    "    return z\n",
    "</pre>\n",
    "\n",
    "Finally, the line is completed with a colon:\n",
    "\n",
    "<pre>\n",
    "                   ↓\n",
    "def add_lists(x, y)<b style=\"color:darkred\">:</b>\n",
    "    z = []\n",
    "    length_x = len(x)\n",
    "    for i in range(length_x):\n",
    "        z.append(x[i] + y[i])\n",
    "    return z\n",
    "</pre>\n",
    "\n",
    "Since we've used a colon, we must indent the body of the function as we did with loops and conditional statements:\n",
    "\n",
    "<pre>\n",
    "def add_lists(x, y):\n",
    "    <b style=\"color:darkred\">z = []\n",
    "    length_x = len(x)\n",
    "    for i in range(length_x):</b>  ← body of function<b style=\"color:darkred\">\n",
    "        z.append(x[i] + y[i])\n",
    "    return z</b>\n",
    "</pre>\n",
    "\n",
    "Most functions will also want to return data back to the code that called it. You can choose what data is returned using the `return` keyword followed by the data you want to return:\n",
    "\n",
    "<pre>\n",
    "def add_lists(x, y):\n",
    "    z = []\n",
    "    length_x = len(x)\n",
    "    for i in range(length_x):\n",
    "        z.append(x[i] + y[i])\n",
    "    <b style=\"color:darkred\">return</b> z\n",
    "      ↑\n",
    "</pre>"
   ]
  },
  {
   "cell_type": "markdown",
   "metadata": {},
   "source": [
    "### Using the function\n",
    "\n",
    "This function can then be *called* (i.e. used) in the same way as any other function: with round brackets `(` `)` and passing the input arguments we want to use."
   ]
  },
  {
   "cell_type": "code",
   "execution_count": 2,
   "metadata": {},
   "outputs": [],
   "source": [
    "list1 = [1, 2, 3]\n",
    "list2 = [3, 4, 5]"
   ]
  },
  {
   "cell_type": "code",
   "execution_count": 3,
   "metadata": {},
   "outputs": [
    {
     "name": "stdout",
     "output_type": "stream",
     "text": [
      "[4, 6, 8]\n"
     ]
    }
   ],
   "source": [
    "added_list = add_lists(list1,list2)\n",
    "print(added_list)"
   ]
  },
  {
   "cell_type": "markdown",
   "metadata": {},
   "source": [
    "---"
   ]
  },
  {
   "cell_type": "markdown",
   "metadata": {},
   "source": [
    "## Examining our function"
   ]
  },
  {
   "cell_type": "markdown",
   "metadata": {},
   "source": [
    "The `add_lists()` function asks for two arguments as an input."
   ]
  },
  {
   "cell_type": "code",
   "execution_count": 4,
   "metadata": {},
   "outputs": [
    {
     "data": {
      "text/plain": [
       "[4, 6]"
      ]
     },
     "execution_count": 4,
     "metadata": {},
     "output_type": "execute_result"
    }
   ],
   "source": [
    "add_lists([1,2], [3,4])"
   ]
  },
  {
   "cell_type": "markdown",
   "metadata": {},
   "source": [
    "How does this function react for different inputs? For example what about if we pass a list which is shorter than the other:"
   ]
  },
  {
   "cell_type": "code",
   "execution_count": 5,
   "metadata": {},
   "outputs": [],
   "source": [
    "a = [1,2]\n",
    "c = [3]"
   ]
  },
  {
   "cell_type": "code",
   "execution_count": 6,
   "metadata": {},
   "outputs": [
    {
     "ename": "IndexError",
     "evalue": "list index out of range",
     "output_type": "error",
     "traceback": [
      "\u001b[1;31m---------------------------------------------------------------------------\u001b[0m",
      "\u001b[1;31mIndexError\u001b[0m                                Traceback (most recent call last)",
      "\u001b[1;32m<ipython-input-6-863bf7b7fcb2>\u001b[0m in \u001b[0;36m<module>\u001b[1;34m\u001b[0m\n\u001b[1;32m----> 1\u001b[1;33m \u001b[0madd_lists\u001b[0m\u001b[1;33m(\u001b[0m\u001b[0ma\u001b[0m\u001b[1;33m,\u001b[0m \u001b[0mc\u001b[0m\u001b[1;33m)\u001b[0m\u001b[1;33m\u001b[0m\u001b[1;33m\u001b[0m\u001b[0m\n\u001b[0m",
      "\u001b[1;32m<ipython-input-1-4b49d59ba1fe>\u001b[0m in \u001b[0;36madd_lists\u001b[1;34m(x, y)\u001b[0m\n\u001b[0;32m      3\u001b[0m     \u001b[0mlength_x\u001b[0m \u001b[1;33m=\u001b[0m \u001b[0mlen\u001b[0m\u001b[1;33m(\u001b[0m\u001b[0mx\u001b[0m\u001b[1;33m)\u001b[0m\u001b[1;33m\u001b[0m\u001b[1;33m\u001b[0m\u001b[0m\n\u001b[0;32m      4\u001b[0m     \u001b[1;32mfor\u001b[0m \u001b[0mi\u001b[0m \u001b[1;32min\u001b[0m \u001b[0mrange\u001b[0m\u001b[1;33m(\u001b[0m\u001b[0mlength_x\u001b[0m\u001b[1;33m)\u001b[0m\u001b[1;33m:\u001b[0m\u001b[1;33m\u001b[0m\u001b[1;33m\u001b[0m\u001b[0m\n\u001b[1;32m----> 5\u001b[1;33m         \u001b[0mz\u001b[0m\u001b[1;33m.\u001b[0m\u001b[0mappend\u001b[0m\u001b[1;33m(\u001b[0m\u001b[0mx\u001b[0m\u001b[1;33m[\u001b[0m\u001b[0mi\u001b[0m\u001b[1;33m]\u001b[0m \u001b[1;33m+\u001b[0m \u001b[0my\u001b[0m\u001b[1;33m[\u001b[0m\u001b[0mi\u001b[0m\u001b[1;33m]\u001b[0m\u001b[1;33m)\u001b[0m\u001b[1;33m\u001b[0m\u001b[1;33m\u001b[0m\u001b[0m\n\u001b[0m\u001b[0;32m      6\u001b[0m     \u001b[1;32mreturn\u001b[0m \u001b[0mz\u001b[0m\u001b[1;33m\u001b[0m\u001b[1;33m\u001b[0m\u001b[0m\n",
      "\u001b[1;31mIndexError\u001b[0m: list index out of range"
     ]
    }
   ],
   "source": [
    "add_lists(a, c)"
   ]
  },
  {
   "cell_type": "code",
   "execution_count": null,
   "metadata": {},
   "outputs": [],
   "source": [
    "add_lists(c, a)"
   ]
  },
  {
   "cell_type": "markdown",
   "metadata": {},
   "source": [
    "So the way we have written this function, we have looked at the length of the *first* list as our basis for indexing. If we pass lists of mismatching length, this means we see different behaviour if we pass the shorter list as the first or second argument.\n",
    "\n",
    "We could update our function to check both lengths and pick the shortest:"
   ]
  },
  {
   "cell_type": "code",
   "execution_count": null,
   "metadata": {},
   "outputs": [],
   "source": [
    "def add_lists(x, y):\n",
    "    \n",
    "    ### ADDED IN A CHECK FOR SHORTEST LENGTH\n",
    "    length_x = len(x)\n",
    "    length_y = len(y)\n",
    "    \n",
    "    if length_x <= length_y:\n",
    "        length = length_x\n",
    "    else:\n",
    "        length = length_y\n",
    "    ###\n",
    "    \n",
    "    z = []\n",
    "    for i in range(length):\n",
    "        z.append(x[i] + y[i])\n",
    "    \n",
    "    return z"
   ]
  },
  {
   "cell_type": "code",
   "execution_count": null,
   "metadata": {},
   "outputs": [],
   "source": [
    "add_lists(a, c)"
   ]
  },
  {
   "cell_type": "code",
   "execution_count": null,
   "metadata": {},
   "outputs": [],
   "source": [
    "add_lists(c, a)"
   ]
  },
  {
   "cell_type": "markdown",
   "metadata": {},
   "source": [
    "Because we only have to write this functionality once, it's a lot easier to consider and cover different corner cases and make sure your code does what you expect in different circumstances."
   ]
  },
  {
   "cell_type": "markdown",
   "metadata": {},
   "source": [
    "### Required arguments"
   ]
  },
  {
   "cell_type": "markdown",
   "metadata": {},
   "source": [
    "How do we define what a function needs? In this case, we have defined a function which requires *two arguments* by specifying `x` and `y`. If we don't pass both arguments, this raises a `TypeError`."
   ]
  },
  {
   "cell_type": "code",
   "execution_count": null,
   "metadata": {},
   "outputs": [],
   "source": [
    "add_lists(a)"
   ]
  },
  {
   "cell_type": "markdown",
   "metadata": {},
   "source": [
    "In this case we specified our inputs based on their *position*. When specifying arguments in this way, the order matters. The first argument we pass is being assigned to the `x` variable used within the function and the second is being assigned to the `y` variable. For our `add_lists` function we saw why this originally made a difference when passing the shorter list.\n",
    "\n",
    "To be explicit we can also pass arguments by assigning them to the keyword names we have defined, in this case: *x* and *y*:"
   ]
  },
  {
   "cell_type": "code",
   "execution_count": null,
   "metadata": {},
   "outputs": [],
   "source": [
    "add_lists(x = a, y = c)"
   ]
  },
  {
   "cell_type": "markdown",
   "metadata": {},
   "source": [
    "### Optional arguments"
   ]
  },
  {
   "cell_type": "markdown",
   "metadata": {},
   "source": [
    "We have also seen when using built-in functions that there are often other arguments that *can* be supplied but don't *need* to be supplied.\n",
    "\n",
    "For example, when calling the [`read_csv` function](https://pandas.pydata.org/pandas-docs/stable/reference/api/pandas.read_csv.html) only the filename input *needs* be supplied for Python to not produce an error but can also be (and often should be) supplied with lots of additional arguments.\n",
    "\n",
    "These are *optional* arguments and can be specified by providing a *default value* when creating the function. For example, for our `add_lists` function we could add an option to check the lists are the same length first by creating an input called `check_same_length` and assigning this to `True` by default:"
   ]
  },
  {
   "cell_type": "code",
   "execution_count": null,
   "metadata": {},
   "outputs": [],
   "source": [
    "def add_lists(x, y, check_same_length=True):\n",
    "    \n",
    "    length_x = len(x)\n",
    "    length_y = len(y)\n",
    "    \n",
    "    ### ADDED AN IF BLOCK FOR check_same_length\n",
    "    if check_same_length:\n",
    "        if length_x != length_y:\n",
    "            return None\n",
    "    ###\n",
    "    \n",
    "    if length_x <= length_y:\n",
    "        length = length_x\n",
    "    else:\n",
    "        length = length_y\n",
    "    \n",
    "    z = []\n",
    "    for i in range(length):\n",
    "        z.append(x[i] + y[i])\n",
    "    \n",
    "    return z"
   ]
  },
  {
   "cell_type": "markdown",
   "metadata": {},
   "source": [
    "There are a few new concepts introduced here.\n",
    "\n",
    "We have added a second `return` statement within a branch. A function will stop and exit once a `return` statement is reached but you could include multiple `return` statements within different branches to exit early based on a certain condition.\n",
    "\n",
    "In this case when `check_same_length` is set to True and the lengths are not the same, the function branches, reaches the `return` statement and immediately stops executing, returning a `None` value instead. `None` objects are a way for Python to say that nothing is returned and are often used in functions. We can look at the behaviour for our two mismatched lists again:"
   ]
  },
  {
   "cell_type": "code",
   "execution_count": null,
   "metadata": {},
   "outputs": [],
   "source": [
    "output = add_lists(a, c, check_same_length=True)\n",
    "print(output)"
   ]
  },
  {
   "cell_type": "code",
   "execution_count": null,
   "metadata": {},
   "outputs": [],
   "source": [
    "output = add_lists(a, c, check_same_length=False)\n",
    "print(output)"
   ]
  },
  {
   "cell_type": "markdown",
   "metadata": {},
   "source": [
    "#### Raising errors\n",
    "\n",
    "Alternatively, we can also *raise* our own errors using the `raise` statement and supplying a [suitable error type](https://docs.python.org/3/library/exceptions.html#concrete-exceptions). For example here we could raise a `ValueError`:"
   ]
  },
  {
   "cell_type": "code",
   "execution_count": null,
   "metadata": {},
   "outputs": [],
   "source": [
    "def add_lists(x, y, check_same_length=True):\n",
    "    '''\n",
    "    Adds two lists together, element wise.\n",
    "\n",
    "    Args:\n",
    "        x (list) : First list containing values which can be added\n",
    "        y (list) : Second list containing values which can be added\n",
    "        check_same_length (bool) :\n",
    "            When check_same_length is set to True this will raise a ValueError if the two lists are not the same length\n",
    "            Otherwise the output list will be truncated to the shortest list length.\n",
    "            Default = True\n",
    "    \n",
    "    Returns:\n",
    "        list: each value in x and y added together\n",
    "    '''\n",
    "    length_x = len(x)\n",
    "    length_y = len(y)\n",
    "    \n",
    "    if check_same_length:\n",
    "        if length_x != length_y:\n",
    "            raise ValueError(\"Length of x and y must match\")\n",
    "    \n",
    "    if length_x <= length_y:\n",
    "        length = length_x\n",
    "    else:\n",
    "        length = length_y\n",
    "         \n",
    "    z = []\n",
    "    for i in range(length):\n",
    "        z.append(x[i] + y[i])\n",
    "    \n",
    "    return z"
   ]
  },
  {
   "cell_type": "markdown",
   "metadata": {},
   "source": [
    "Due to the increasing complexity of this function, we have also added a [documentation string](https://www.python.org/dev/peps/pep-0257/) (using three opening and closing quotes) to include details of the function, the inputs and the outputs."
   ]
  },
  {
   "cell_type": "code",
   "execution_count": null,
   "metadata": {},
   "outputs": [],
   "source": [
    "output = add_lists(a, c, check_same_length=True)"
   ]
  },
  {
   "cell_type": "markdown",
   "metadata": {},
   "source": [
    "You can see this now raises a `ValueError` with the error message we supplied \"Length of x and y must match\". \n",
    "\n",
    "Our instinct when writing code can often be to see errors like this as undesirable. However, creating an error output in this way clearly indicates *what* the problem is and *where* the problem first occurred.\n",
    "\n",
    "If we took another route and returned a shorter list or a None object instead, an error could still be raised later if your code is relying on an output in a particular form (e.g. it expects a list of a certain length). By raising the error at the point where the input isn't what you expect with a clear error message, it can actually make you code easier to debug."
   ]
  },
  {
   "cell_type": "markdown",
   "metadata": {},
   "source": [
    "---"
   ]
  },
  {
   "cell_type": "markdown",
   "metadata": {},
   "source": [
    "## Scope"
   ]
  },
  {
   "cell_type": "markdown",
   "metadata": {},
   "source": [
    "One thing to bear in mind when writing functions is the idea of *scope*. This is the idea that variables created within a function are only available within the function itself. For example, in our original `add_lists()` function we define a variable called `z`. When we call that function, the value contained within `z` is returned and we can assign this to a new variable."
   ]
  },
  {
   "cell_type": "code",
   "execution_count": null,
   "metadata": {},
   "outputs": [],
   "source": [
    "def add_lists(x, y):\n",
    "    z = []\n",
    "    length_x = len(x)\n",
    "    for i in range(length_x):\n",
    "        z.append(x[i] + y[i])\n",
    "    return z"
   ]
  },
  {
   "cell_type": "code",
   "execution_count": null,
   "metadata": {},
   "outputs": [],
   "source": [
    "a = [1, 2]\n",
    "b = [3, 4]\n",
    "\n",
    "c = add_lists(a, b)\n",
    "print(c)"
   ]
  },
  {
   "cell_type": "markdown",
   "metadata": {},
   "source": [
    "However, if we try and extract the contents of `z` directly, we will see that this is not defined."
   ]
  },
  {
   "cell_type": "code",
   "execution_count": null,
   "metadata": {},
   "outputs": [],
   "source": [
    "print(z)"
   ]
  },
  {
   "cell_type": "markdown",
   "metadata": {},
   "source": [
    "Similarly, other variables defined within the function don't exist either, such as `length_x`:"
   ]
  },
  {
   "cell_type": "code",
   "execution_count": null,
   "metadata": {},
   "outputs": [],
   "source": [
    "print(length_x)"
   ]
  },
  {
   "cell_type": "markdown",
   "metadata": {},
   "source": [
    "Any values you want to be able to use after the function has been run must be *returned* (using a `return` statement)."
   ]
  },
  {
   "cell_type": "markdown",
   "metadata": {},
   "source": [
    "One benefit to this is that you can reuse simple variable names when writing functions without fear of overwriting other variables you have defined within code."
   ]
  },
  {
   "cell_type": "code",
   "execution_count": null,
   "metadata": {},
   "outputs": [],
   "source": [
    "z = \"Retain this string\""
   ]
  },
  {
   "cell_type": "code",
   "execution_count": null,
   "metadata": {},
   "outputs": [],
   "source": [
    "c = add_lists(a, b)"
   ]
  },
  {
   "cell_type": "code",
   "execution_count": null,
   "metadata": {},
   "outputs": [],
   "source": [
    "print(z)"
   ]
  },
  {
   "cell_type": "markdown",
   "metadata": {},
   "source": [
    "Even though the `z` variable was used within the function, the `z` variable we defined within our main code was not reassigned."
   ]
  },
  {
   "cell_type": "markdown",
   "metadata": {},
   "source": [
    "---"
   ]
  }
 ],
 "metadata": {
  "kernelspec": {
   "display_name": "Python 3",
   "language": "python",
   "name": "python3"
  },
  "language_info": {
   "codemirror_mode": {
    "name": "ipython",
    "version": 3
   },
   "file_extension": ".py",
   "mimetype": "text/x-python",
   "name": "python",
   "nbconvert_exporter": "python",
   "pygments_lexer": "ipython3",
   "version": "3.8.5"
  }
 },
 "nbformat": 4,
 "nbformat_minor": 4
}
